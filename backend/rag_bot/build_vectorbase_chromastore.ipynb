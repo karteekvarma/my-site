{
 "cells": [
  {
   "cell_type": "markdown",
   "id": "ca78e8a1",
   "metadata": {},
   "source": [
    "Installed Langchain:\n",
    "\n",
    "pip install -qU \"langchain[openai]\"\n",
    "\n",
    "pip install -U langchain-community\n",
    "\n",
    "pip install pypdf\n",
    "\n",
    "pip install sentence-transformers\n",
    "\n",
    "pip install hf_xet"
   ]
  },
  {
   "cell_type": "code",
   "execution_count": 1,
   "id": "bc89176d",
   "metadata": {},
   "outputs": [],
   "source": [
    "import tqdm as notebook_tqdm"
   ]
  },
  {
   "cell_type": "code",
   "execution_count": 2,
   "id": "7d92c8d7",
   "metadata": {},
   "outputs": [
    {
     "name": "stderr",
     "output_type": "stream",
     "text": [
      "c:\\Users\\varma\\anaconda3\\envs\\gpu-phi2\\lib\\site-packages\\tqdm\\auto.py:21: TqdmWarning: IProgress not found. Please update jupyter and ipywidgets. See https://ipywidgets.readthedocs.io/en/stable/user_install.html\n",
      "  from .autonotebook import tqdm as notebook_tqdm\n",
      "Loading checkpoint shards: 100%|██████████| 2/2 [00:03<00:00,  1.83s/it]\n"
     ]
    }
   ],
   "source": [
    "#Load the LargeLanguageModel\n",
    "\n",
    "from transformers import AutoModelForCausalLM, AutoTokenizer, BitsAndBytesConfig\n",
    "import torch\n",
    "import os\n",
    "\n",
    "from transformers import AutoConfig\n",
    "\n",
    "tokenizer = AutoTokenizer.from_pretrained(\"microsoft/phi-2\")\n",
    "\n",
    "\n",
    "bnb_config = BitsAndBytesConfig(\n",
    "    load_in_4bit=True,\n",
    "    bnb_4bit_use_double_quant=True,\n",
    "    bnb_4bit_quant_type=\"nf4\",\n",
    "    bnb_4bit_compute_dtype=torch.float16\n",
    ")\n",
    "\n",
    "config = AutoConfig.from_pretrained(\"microsoft/phi-2\")\n",
    "\n",
    "# 4. Load model with offloading enabled\n",
    "model = AutoModelForCausalLM.from_pretrained(\n",
    "    \"microsoft/phi-2\",\n",
    "    device_map=\"auto\",  # OR pass custom map below if needed\n",
    "    quantization_config=bnb_config,\n",
    "    offload_folder=\"./offload\",  # Where to store offloaded layers\n",
    ")\n"
   ]
  },
  {
   "cell_type": "code",
   "execution_count": 3,
   "id": "5b21f44d",
   "metadata": {},
   "outputs": [
    {
     "name": "stderr",
     "output_type": "stream",
     "text": [
      "Loading checkpoint shards: 100%|██████████| 2/2 [00:04<00:00,  2.00s/it]\n"
     ]
    }
   ],
   "source": [
    "from transformers import AutoModelForCausalLM, AutoTokenizer, BitsAndBytesConfig\n",
    "import torch\n",
    "import os\n",
    "\n",
    "from transformers import AutoConfig\n",
    "\n",
    "tokenizer = AutoTokenizer.from_pretrained(\"microsoft/phi-2\")\n",
    "\n",
    "\n",
    "bnb_config = BitsAndBytesConfig(\n",
    "    load_in_4bit=True,\n",
    "    bnb_4bit_use_double_quant=True,\n",
    "    bnb_4bit_quant_type=\"nf4\",\n",
    "    bnb_4bit_compute_dtype=torch.float16\n",
    ")\n",
    "\n",
    "config = AutoConfig.from_pretrained(\"microsoft/phi-2\")\n",
    "\n",
    "# 4. Load model with offloading enabled\n",
    "model = AutoModelForCausalLM.from_pretrained(\n",
    "    \"microsoft/phi-2\",\n",
    "    device_map=\"auto\",  # OR pass custom map below if needed\n",
    "    quantization_config=bnb_config,\n",
    "    offload_folder=\"./offload\",  # Where to store offloaded layers\n",
    ")\n"
   ]
  },
  {
   "cell_type": "code",
   "execution_count": 4,
   "id": "54ced0fd",
   "metadata": {},
   "outputs": [
    {
     "name": "stdout",
     "output_type": "stream",
     "text": [
      "[Document(metadata={'producer': 'PyFPDF 1.7.2 http://pyfpdf.googlecode.com/', 'creator': 'PyPDF', 'creationdate': 'D:20250505060459', 'source': 'trainingdata.pdf', 'total_pages': 2, 'page': 0, 'page_label': '1'}, page_content=\"KarPer: Detailed Knowledge Base of Karteek Varma\\n1. Biographical Background\\nKarteek Varma Pericharla is a dedicated and ambitious Artificial Intelligence student currently pursuing his\\nMaster of Science in Computer Science with a specialization in Artificial Intelligence at Illinois Institute of\\nTechnology (IIT), Chicago. He is expected to graduate in May 2025. This marks his second master?s degree,\\nbuilding upon his prior MBA in Business Analytics, Artificial Intelligence, and Machine Learning from Woxsen\\nUniversity, Hyderabad. His fascination with AI was sparked during his techno-managerial journey at Woxsen,\\nprompting him to deepen his technical expertise through a second graduate program in the United States.\\nBefore his postgraduate studies, he earned a Bachelor's degree in Mechanical Engineering from JNTUK\\nKakinada.\\n2. Professional Experience\\nKarteek's professional journey began at Nagarjuna Cements Limited (NCL Group), where he served as a\\nGraduate Engineer Trainee, focusing on erection and commissioning engineering. He then moved to\\nSynechron Technologies, Hyderabad, where over the span of more than two years, he rose from Technology\\nAssociate to Senior Technology Associate. At Synechron, he played a key role in full-stack development of a\\nsecure risk management web application for a major US-based BFSI client using Angular, SQL, C#, and\\nCI/CD practices. \\nSubsequently, at Cigniti Technologies (now Coforge), Karteek worked as an AI Services Consultant within\\nthe Offerings Management Group. He led AI-centered initiatives in healthcare and industrial IoT domains. He\\nprovided tailored solutions, handled strategic account mining, built defense decks, and ensured alignment of\\ntechnical solutions with business objectives. His role involved client-centric innovation, trend research, and\\ndelivery of AI technologies integrated into operational workflows.\\n3. Academic Qualifications\\n1. Master of Science in Computer Science (Artificial Intelligence) ? Illinois Institute of Technology, Chicago\\n(2023 ? 2025)\\n2. Master of Business Administration in AI/ML & Finance ? Woxsen University, Hyderabad (Graduated: 2022)\\n3. Bachelor of Technology in Mechanical Engineering ? JNTUK Kakinada (Graduated: 2016)\\n4. Technical Skills\\n- Programming: Python (NumPy, Pandas), SQL, JavaScript, TypeScript, C#, MS SQL\\n- AI/ML: Neural networks, Clustering, Classification, Regression, Transformer models, Reinforcement\\nLearning (DDQL)\"), Document(metadata={'producer': 'PyFPDF 1.7.2 http://pyfpdf.googlecode.com/', 'creator': 'PyPDF', 'creationdate': 'D:20250505060459', 'source': 'trainingdata.pdf', 'total_pages': 2, 'page': 1, 'page_label': '2'}, page_content='KarPer: Detailed Knowledge Base of Karteek Varma\\n- NLP: Sentiment analysis, Text summarization, GPT fine-tuning, BLEU/ROUGE/Perplexity metrics,\\nWord2Vec, TextBlob, NLTK\\n- Data Visualization: Tableau, Power BI, Matplotlib, Seaborn, ggplot\\n- Data Engineering: AWS pipelines, graph-based processing, feature engineering\\n- Computer Vision: Object detection, facial recognition, real-time video analysis\\n- Tools: Git, CI/CD pipelines, Power Vision (for HMI)\\n5. Key Projects & Achievements\\n1. **Flood Prediction using Transformer Models**: Karteek led the development of an AI-based flood risk\\npredictor using satellite imagery, transformer ML models, and geospatial data to help urban planners prepare\\nmitigation strategies. This project earned 3rd place in the Grainger Computing Innovation Prize at Illinois\\nTech.\\n2. **AI Stock Trading Agent**: Designed a Double Deep Q-Learning agent that used LSTM networks to\\nidentify trading patterns in TCS stock from the Indian stock market. Created a custom reward-based\\nenvironment to optimize trades.\\n3. **Eco-Car Challenge - Human-Machine Interface (HMI)**: Built interactive HMI screens using Power Vision\\nfor an electric vehicle. Integrated car-to-screen communication via CAN bus and custom DBC files. Real-time\\ncontrol logic was designed for improved vehicle-user interaction.\\n4. **NLP Data Mapping at Course5 Intelligence**: Created NLP algorithms for cleaning and mapping\\nweb-scraped records, streamlining data retrieval while maintaining high accuracy.\\n5. **Investor Abnormality Detection Tool**: Built a desktop application using financial models to detect\\ndiscrepancies in company financials using historical fraud patterns.\\n6. **Nifty 50 Stock Forecasting**: Applied supervised and unsupervised ML models including SVM, Decision\\nTrees, and Logistic Regression to analyze and predict trends in India?s stock index.\\n6. Interests & Personality Highlights\\nBeyond academics and work, Karteek has been a passionate Kabaddi player, representing and leading his\\ncollege team for four years. He is known for his leadership skills, event organization experience, and\\ncollaborative spirit. He is highly enthusiastic about emerging AI technologies, especially in generative models\\n(both NLP and CV), big data applications, and creating impactful AI-driven systems.')]\n"
     ]
    }
   ],
   "source": [
    "from langchain.document_loaders import PyPDFLoader\n",
    "\n",
    "# Load the PDF file\n",
    "pdf_loader = PyPDFLoader(\"trainingdata.pdf\")\n",
    "documents = pdf_loader.load()\n",
    "\n",
    "# Display the loaded documents\n",
    "print(documents)"
   ]
  },
  {
   "cell_type": "code",
   "execution_count": 5,
   "id": "3b6779b1",
   "metadata": {},
   "outputs": [
    {
     "name": "stdout",
     "output_type": "stream",
     "text": [
      "[Document(metadata={'producer': 'PyFPDF 1.7.2 http://pyfpdf.googlecode.com/', 'creator': 'PyPDF', 'creationdate': 'D:20250505060459', 'source': 'trainingdata.pdf', 'total_pages': 2, 'page': 0, 'page_label': '1'}, page_content=\"KarPer: Detailed Knowledge Base of Karteek Varma\\n1. Biographical Background\\nKarteek Varma Pericharla is a dedicated and ambitious Artificial Intelligence student currently pursuing his\\nMaster of Science in Computer Science with a specialization in Artificial Intelligence at Illinois Institute of\\nTechnology (IIT), Chicago. He is expected to graduate in May 2025. This marks his second master?s degree,\\nbuilding upon his prior MBA in Business Analytics, Artificial Intelligence, and Machine Learning from Woxsen\\nUniversity, Hyderabad. His fascination with AI was sparked during his techno-managerial journey at Woxsen,\\nprompting him to deepen his technical expertise through a second graduate program in the United States.\\nBefore his postgraduate studies, he earned a Bachelor's degree in Mechanical Engineering from JNTUK\\nKakinada.\\n2. Professional Experience\\nKarteek's professional journey began at Nagarjuna Cements Limited (NCL Group), where he served as a\"), Document(metadata={'producer': 'PyFPDF 1.7.2 http://pyfpdf.googlecode.com/', 'creator': 'PyPDF', 'creationdate': 'D:20250505060459', 'source': 'trainingdata.pdf', 'total_pages': 2, 'page': 0, 'page_label': '1'}, page_content=\"Kakinada.\\n2. Professional Experience\\nKarteek's professional journey began at Nagarjuna Cements Limited (NCL Group), where he served as a\\nGraduate Engineer Trainee, focusing on erection and commissioning engineering. He then moved to\\nSynechron Technologies, Hyderabad, where over the span of more than two years, he rose from Technology\\nAssociate to Senior Technology Associate. At Synechron, he played a key role in full-stack development of a\\nsecure risk management web application for a major US-based BFSI client using Angular, SQL, C#, and\\nCI/CD practices. \\nSubsequently, at Cigniti Technologies (now Coforge), Karteek worked as an AI Services Consultant within\\nthe Offerings Management Group. He led AI-centered initiatives in healthcare and industrial IoT domains. He\\nprovided tailored solutions, handled strategic account mining, built defense decks, and ensured alignment of\\ntechnical solutions with business objectives. His role involved client-centric innovation, trend research, and\"), Document(metadata={'producer': 'PyFPDF 1.7.2 http://pyfpdf.googlecode.com/', 'creator': 'PyPDF', 'creationdate': 'D:20250505060459', 'source': 'trainingdata.pdf', 'total_pages': 2, 'page': 0, 'page_label': '1'}, page_content='technical solutions with business objectives. His role involved client-centric innovation, trend research, and\\ndelivery of AI technologies integrated into operational workflows.\\n3. Academic Qualifications\\n1. Master of Science in Computer Science (Artificial Intelligence) ? Illinois Institute of Technology, Chicago\\n(2023 ? 2025)\\n2. Master of Business Administration in AI/ML & Finance ? Woxsen University, Hyderabad (Graduated: 2022)\\n3. Bachelor of Technology in Mechanical Engineering ? JNTUK Kakinada (Graduated: 2016)\\n4. Technical Skills\\n- Programming: Python (NumPy, Pandas), SQL, JavaScript, TypeScript, C#, MS SQL\\n- AI/ML: Neural networks, Clustering, Classification, Regression, Transformer models, Reinforcement\\nLearning (DDQL)'), Document(metadata={'producer': 'PyFPDF 1.7.2 http://pyfpdf.googlecode.com/', 'creator': 'PyPDF', 'creationdate': 'D:20250505060459', 'source': 'trainingdata.pdf', 'total_pages': 2, 'page': 1, 'page_label': '2'}, page_content='KarPer: Detailed Knowledge Base of Karteek Varma\\n- NLP: Sentiment analysis, Text summarization, GPT fine-tuning, BLEU/ROUGE/Perplexity metrics,\\nWord2Vec, TextBlob, NLTK\\n- Data Visualization: Tableau, Power BI, Matplotlib, Seaborn, ggplot\\n- Data Engineering: AWS pipelines, graph-based processing, feature engineering\\n- Computer Vision: Object detection, facial recognition, real-time video analysis\\n- Tools: Git, CI/CD pipelines, Power Vision (for HMI)\\n5. Key Projects & Achievements\\n1. **Flood Prediction using Transformer Models**: Karteek led the development of an AI-based flood risk\\npredictor using satellite imagery, transformer ML models, and geospatial data to help urban planners prepare\\nmitigation strategies. This project earned 3rd place in the Grainger Computing Innovation Prize at Illinois\\nTech.\\n2. **AI Stock Trading Agent**: Designed a Double Deep Q-Learning agent that used LSTM networks to'), Document(metadata={'producer': 'PyFPDF 1.7.2 http://pyfpdf.googlecode.com/', 'creator': 'PyPDF', 'creationdate': 'D:20250505060459', 'source': 'trainingdata.pdf', 'total_pages': 2, 'page': 1, 'page_label': '2'}, page_content='Tech.\\n2. **AI Stock Trading Agent**: Designed a Double Deep Q-Learning agent that used LSTM networks to\\nidentify trading patterns in TCS stock from the Indian stock market. Created a custom reward-based\\nenvironment to optimize trades.\\n3. **Eco-Car Challenge - Human-Machine Interface (HMI)**: Built interactive HMI screens using Power Vision\\nfor an electric vehicle. Integrated car-to-screen communication via CAN bus and custom DBC files. Real-time\\ncontrol logic was designed for improved vehicle-user interaction.\\n4. **NLP Data Mapping at Course5 Intelligence**: Created NLP algorithms for cleaning and mapping\\nweb-scraped records, streamlining data retrieval while maintaining high accuracy.\\n5. **Investor Abnormality Detection Tool**: Built a desktop application using financial models to detect\\ndiscrepancies in company financials using historical fraud patterns.\\n6. **Nifty 50 Stock Forecasting**: Applied supervised and unsupervised ML models including SVM, Decision'), Document(metadata={'producer': 'PyFPDF 1.7.2 http://pyfpdf.googlecode.com/', 'creator': 'PyPDF', 'creationdate': 'D:20250505060459', 'source': 'trainingdata.pdf', 'total_pages': 2, 'page': 1, 'page_label': '2'}, page_content='discrepancies in company financials using historical fraud patterns.\\n6. **Nifty 50 Stock Forecasting**: Applied supervised and unsupervised ML models including SVM, Decision\\nTrees, and Logistic Regression to analyze and predict trends in India?s stock index.\\n6. Interests & Personality Highlights\\nBeyond academics and work, Karteek has been a passionate Kabaddi player, representing and leading his\\ncollege team for four years. He is known for his leadership skills, event organization experience, and\\ncollaborative spirit. He is highly enthusiastic about emerging AI technologies, especially in generative models\\n(both NLP and CV), big data applications, and creating impactful AI-driven systems.')]\n"
     ]
    }
   ],
   "source": [
    "from langchain.text_splitter import RecursiveCharacterTextSplitter\n",
    "\n",
    "# Initialize the text splitter\n",
    "text_splitter = RecursiveCharacterTextSplitter(chunk_size=1000, chunk_overlap=200)\n",
    "\n",
    "# Split the documents into chunks\n",
    "chunks = text_splitter.split_documents(documents)\n",
    "\n",
    "# Display the chunks\n",
    "print(chunks)"
   ]
  },
  {
   "cell_type": "code",
   "execution_count": 6,
   "id": "28d59615",
   "metadata": {},
   "outputs": [
    {
     "name": "stderr",
     "output_type": "stream",
     "text": [
      "C:\\Users\\varma\\AppData\\Local\\Temp\\ipykernel_21904\\3006842507.py:4: LangChainDeprecationWarning: The class `HuggingFaceEmbeddings` was deprecated in LangChain 0.2.2 and will be removed in 1.0. An updated version of the class exists in the :class:`~langchain-huggingface package and should be used instead. To use it run `pip install -U :class:`~langchain-huggingface` and import as `from :class:`~langchain_huggingface import HuggingFaceEmbeddings``.\n",
      "  embedding_model = HuggingFaceEmbeddings(model_name=\"sentence-transformers/all-MiniLM-L6-v2\")\n",
      "C:\\Users\\varma\\AppData\\Local\\Temp\\ipykernel_21904\\3006842507.py:8: LangChainDeprecationWarning: Since Chroma 0.4.x the manual persistence method is no longer supported as docs are automatically persisted.\n",
      "  db.persist()\n"
     ]
    }
   ],
   "source": [
    "from langchain.vectorstores import Chroma\n",
    "from langchain.embeddings import HuggingFaceEmbeddings\n",
    "\n",
    "embedding_model = HuggingFaceEmbeddings(model_name=\"sentence-transformers/all-MiniLM-L6-v2\")\n",
    "\n",
    "db = Chroma.from_documents(chunks, embedding=embedding_model, persist_directory=\"C:\\\\Users\\\\varma\\\\my-site\\\\src\\\\chroma_store\", collection_name=\"karteek_context\")\n",
    "\n",
    "db.persist()"
   ]
  },
  {
   "cell_type": "markdown",
   "id": "d1a1004f",
   "metadata": {},
   "source": [
    "The cells below is only for test inference, and do not need once deployed unless to test"
   ]
  },
  {
   "cell_type": "code",
   "execution_count": 7,
   "id": "6d9dadaf",
   "metadata": {},
   "outputs": [
    {
     "name": "stdout",
     "output_type": "stream",
     "text": [
      "Context:  KarPer: Detailed Knowledge Base of Karteek Varma\n",
      "- NLP: Sentiment analysis, Text summarization, GPT fine-tuning, BLEU/ROUGE/Perplexity metrics,\n",
      "Word2Vec, TextBlob, NLTK\n",
      "- Data Visualization: Tableau, Power BI, Matplotlib, Seaborn, ggplot\n",
      "- Data Engineering: AWS pipelines, graph-based processing, feature engineering\n",
      "- Computer Vision: Object detection, facial recognition, real-time video analysis\n",
      "- Tools: Git, CI/CD pipelines, Power Vision (for HMI)\n",
      "5. Key Projects & Achievements\n",
      "1. **Flood Prediction using Transformer Models**: Karteek led the development of an AI-based flood risk\n",
      "predictor using satellite imagery, transformer ML models, and geospatial data to help urban planners prepare\n",
      "mitigation strategies. This project earned 3rd place in the Grainger Computing Innovation Prize at Illinois\n",
      "Tech.\n",
      "2. **AI Stock Trading Agent**: Designed a Double Deep Q-Learning agent that used LSTM networks to\n",
      "\n",
      "KarPer: Detailed Knowledge Base of Karteek Varma\n",
      "- NLP: Sentiment analysis, Text summarization, GPT fine-tuning, BLEU/ROUGE/Perplexity metrics,\n",
      "Word2Vec, TextBlob, NLTK\n",
      "- Data Visualization: Tableau, Power BI, Matplotlib, Seaborn, ggplot\n",
      "- Data Engineering: AWS pipelines, graph-based processing, feature engineering\n",
      "- Computer Vision: Object detection, facial recognition, real-time video analysis\n",
      "- Tools: Git, CI/CD pipelines, Power Vision (for HMI)\n",
      "5. Key Projects & Achievements\n",
      "1. **Flood Prediction using Transformer Models**: Karteek led the development of an AI-based flood risk\n",
      "predictor using satellite imagery, transformer ML models, and geospatial data to help urban planners prepare\n",
      "mitigation strategies. This project earned 3rd place in the Grainger Computing Innovation Prize at Illinois\n",
      "Tech.\n",
      "2. **AI Stock Trading Agent**: Designed a Double Deep Q-Learning agent that used LSTM networks to\n"
     ]
    }
   ],
   "source": [
    "query = \"Tell me about his projects\"\n",
    "retrieved_docs = db.similarity_search(query, k=2)\n",
    "\n",
    "#Get the context as plain text\n",
    "context = \"\\n\\n\".join([doc.page_content for doc in retrieved_docs])\n",
    "\n",
    "print(\"Context: \", context)\n"
   ]
  },
  {
   "cell_type": "code",
   "execution_count": 8,
   "id": "1ed7d138",
   "metadata": {},
   "outputs": [
    {
     "name": "stdout",
     "output_type": "stream",
     "text": [
      "['karteek_context']\n"
     ]
    }
   ],
   "source": [
    "collections = db._client.list_collections()\n",
    "print([c.name for c in collections])\n"
   ]
  },
  {
   "cell_type": "code",
   "execution_count": 9,
   "id": "1da36821",
   "metadata": {},
   "outputs": [],
   "source": [
    "# prompt = f\"\"\"Context:\n",
    "# {context}\n",
    "#\n",
    "# Answer the following question strictly using the context.\n",
    "#\n",
    "# Question: {query}\n",
    "# Answer:\"\"\""
   ]
  },
  {
   "cell_type": "code",
   "execution_count": 10,
   "id": "806a3b6d",
   "metadata": {},
   "outputs": [],
   "source": [
    "# input_ids = tokenizer(prompt, return_tensors=\"pt\").input_ids.to(model.device)\n",
    "\n",
    "# with torch.no_grad():\n",
    "#     output_ids = model.generate(\n",
    "#         input_ids,\n",
    "#         max_new_tokens=150,\n",
    "#         pad_token_id=tokenizer.eos_token_id,\n",
    "#         eos_token_id=tokenizer.eos_token_id,\n",
    "#     )\n",
    "\n",
    "# Slice to get only the generated part (excluding prompt)\n",
    "# generated_tokens = output_ids[0][input_ids.shape[-1]:]\n",
    "\n",
    "# Decode only generated tokens\n",
    "# response = tokenizer.decode(generated_tokens, skip_special_tokens=True).strip()\n",
    "# response = response.split(\"Exercise\")[0].strip()\n",
    "# response = response.split(\"Question\")[0].strip()\n",
    "\n",
    "# print(response)\n"
   ]
  }
 ],
 "metadata": {
  "kernelspec": {
   "display_name": "gpu-phi2",
   "language": "python",
   "name": "python3"
  },
  "language_info": {
   "codemirror_mode": {
    "name": "ipython",
    "version": 3
   },
   "file_extension": ".py",
   "mimetype": "text/x-python",
   "name": "python",
   "nbconvert_exporter": "python",
   "pygments_lexer": "ipython3",
   "version": "3.10.16"
  }
 },
 "nbformat": 4,
 "nbformat_minor": 5
}
