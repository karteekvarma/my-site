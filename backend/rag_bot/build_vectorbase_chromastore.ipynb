{
 "cells": [
  {
   "cell_type": "markdown",
   "id": "ca78e8a1",
   "metadata": {},
   "source": [
    "Installed Langchain:\n",
    "\n",
    "pip install -qU \"langchain[openai]\"\n",
    "\n",
    "pip install -U langchain-community\n",
    "\n",
    "pip install pypdf\n",
    "\n",
    "pip install sentence-transformers\n",
    "\n",
    "pip install hf_xet"
   ]
  },
  {
   "cell_type": "code",
   "execution_count": 11,
   "id": "bc89176d",
   "metadata": {},
   "outputs": [],
   "source": [
    "import tqdm as notebook_tqdm"
   ]
  },
  {
   "cell_type": "code",
   "execution_count": 12,
   "id": "7d92c8d7",
   "metadata": {},
   "outputs": [
    {
     "name": "stderr",
     "output_type": "stream",
     "text": [
      "Loading checkpoint shards: 100%|██████████| 2/2 [00:04<00:00,  2.13s/it]\n"
     ]
    }
   ],
   "source": [
    "#Load the LargeLanguageModel\n",
    "\n",
    "from transformers import AutoModelForCausalLM, AutoTokenizer, BitsAndBytesConfig\n",
    "import torch\n",
    "import os\n",
    "\n",
    "from transformers import AutoConfig\n",
    "\n",
    "tokenizer = AutoTokenizer.from_pretrained(\"microsoft/phi-2\")\n",
    "\n",
    "\n",
    "bnb_config = BitsAndBytesConfig(\n",
    "    load_in_4bit=True,\n",
    "    bnb_4bit_use_double_quant=True,\n",
    "    bnb_4bit_quant_type=\"nf4\",\n",
    "    bnb_4bit_compute_dtype=torch.float16\n",
    ")\n",
    "\n",
    "config = AutoConfig.from_pretrained(\"microsoft/phi-2\")\n",
    "\n",
    "# 4. Load model with offloading enabled\n",
    "model = AutoModelForCausalLM.from_pretrained(\n",
    "    \"microsoft/phi-2\",\n",
    "    device_map=\"auto\",  # OR pass custom map below if needed\n",
    "    quantization_config=bnb_config,\n",
    "    offload_folder=\"./offload\",  # Where to store offloaded layers\n",
    ")\n"
   ]
  },
  {
   "cell_type": "code",
   "execution_count": 13,
   "id": "5b21f44d",
   "metadata": {},
   "outputs": [
    {
     "name": "stderr",
     "output_type": "stream",
     "text": [
      "Loading checkpoint shards: 100%|██████████| 2/2 [00:04<00:00,  2.02s/it]\n"
     ]
    }
   ],
   "source": [
    "from transformers import AutoModelForCausalLM, AutoTokenizer, BitsAndBytesConfig\n",
    "import torch\n",
    "import os\n",
    "\n",
    "from transformers import AutoConfig\n",
    "\n",
    "tokenizer = AutoTokenizer.from_pretrained(\"microsoft/phi-2\")\n",
    "\n",
    "\n",
    "bnb_config = BitsAndBytesConfig(\n",
    "    load_in_4bit=True,\n",
    "    bnb_4bit_use_double_quant=True,\n",
    "    bnb_4bit_quant_type=\"nf4\",\n",
    "    bnb_4bit_compute_dtype=torch.float16\n",
    ")\n",
    "\n",
    "config = AutoConfig.from_pretrained(\"microsoft/phi-2\")\n",
    "\n",
    "# 4. Load model with offloading enabled\n",
    "model = AutoModelForCausalLM.from_pretrained(\n",
    "    \"microsoft/phi-2\",\n",
    "    device_map=\"auto\",  # OR pass custom map below if needed\n",
    "    quantization_config=bnb_config,\n",
    "    offload_folder=\"./offload\",  # Where to store offloaded layers\n",
    ")\n"
   ]
  },
  {
   "cell_type": "code",
   "execution_count": 14,
   "id": "54ced0fd",
   "metadata": {},
   "outputs": [
    {
     "name": "stdout",
     "output_type": "stream",
     "text": [
      "[Document(metadata={'producer': 'Microsoft® Word for Microsoft 365', 'creator': 'Microsoft® Word for Microsoft 365', 'creationdate': '2025-05-05T18:52:22-05:00', 'author': 'Karteek varma Pericharla', 'moddate': '2025-05-05T18:52:22-05:00', 'source': 'trainingdata.pdf', 'total_pages': 3, 'page': 0, 'page_label': '1'}, page_content=\"Biographical Background: \\nKarteek Varma Pericharla, who is in short called Karteek and sometimes Varma, is a dedicated and \\nambitious Artificial Intelligence student who pursued his master’s in computer science with a \\nspecialization in Artificial Intelligence at Illinois Institute of Technology (IIT), Chicago and this is \\nwhere he is currently at. He is expected to graduate in May 2025. This marks his second master's \\ndegree, building upon his prior MBA in Business Analytics, Artificial Intelligence, and Machine \\nLearning from Woxsen University, where he learned application of AI for business at Hyderabad. His \\nfascination with AI was sparked during his techno-managerial journey at Woxsen, prompting him to \\ndeepen his technical expertise through a second graduate program in the United States. Before his \\npostgraduate studies, he earned a bachelor’s degree in mechanical engineering from JNTUK \\nKakinada. His transition towards computer science was when he was doing a robotics 101 course \\nduring his bachelor’s degree, where he realized that he could spread his wings more freely by \\ncommunicating his ideas via programming. Karteek to this day still loves to go back to his \\nMechanical engineering basics for the love of it. \\nProfessional Experience: \\nKarteek's professional journey as a Full stack engineer started at Synechron Technologies, \\nHyderabad, where over the span of more than two years, he rose from Technology Associate to \\nSenior Technology Associate. At Synechron, he played a key role in full-stack development of a \\nsecure risk management web application for a major US-based BFSI client using Angular, SQL, C#, \\nand CI/CD practices.  \\nSubsequently after Synechron, at Cigniti Technologies which is now acquired by Coforge; Karteek \\nworked as an AI Services Consultant within the Offerings Management Group and the Pre-Sales \\nteam. He led AI-centered initiatives in healthcare and industrial IoT domains. He provided tailored \\nsolutions, handled strategic account mining, built defense decks, and ensured alignment of \\ntechnical solutions with business objectives. His role involved client-centric innovation, trend \\nresearch, and delivery of AI technologies integrated into operational workflows. \\nAcademic Qualifications \\nHis latest degree is in Master of Science in Computer Science (Artificial Intelligence) at Illinois \\nInstitute of Technology, Chicago, Illinois (2023–2025) \\nPrior to that he has a  Master of Business Administration in AI/ML & Finance – Woxsen University, \\nHyderabad (Graduated: 2022) \\nAn he completed his Bachelors of Technology in Mechanical Engineering at  JNTUK Kakinada \\n(Graduated: 2016) \\nKarteek’s Technical skill stack includes \\n• Programming using Python (NumPy, Pandas), SQL, JavaScript, TypeScript, C#, MS SQL, \\nreact.js, CSS, HTML\"), Document(metadata={'producer': 'Microsoft® Word for Microsoft 365', 'creator': 'Microsoft® Word for Microsoft 365', 'creationdate': '2025-05-05T18:52:22-05:00', 'author': 'Karteek varma Pericharla', 'moddate': '2025-05-05T18:52:22-05:00', 'source': 'trainingdata.pdf', 'total_pages': 3, 'page': 1, 'page_label': '2'}, page_content='• His skills in AI/ML include understanding and the ability to build and utilize  Neural \\nnetworks, Clustering, Classification, Regression, Transformer models, Reinforcement \\nLearning (DDQL) algorithms \\n• He is keen at NLP and has worked on projects that include utilizing Sentiment analysis, Text \\nsummarization, GPT fine-tuning, BLEU/ROUGE/Perplexity metrics, Word2Vec, TextBlob, \\nNLTK \\n• To complement his abilities as a ML engineer he also learned to  Visualize data where \\nhe learned to used tools like Tableau, Power BI, Matplotlib, Seaborn, ggplot \\n• He has also learned some Data Engineering skills involving: AWS pipelines, graph-based \\nprocessing and feature engineering \\n• He also possess skills in Computer Vision and can perform tasks like Object detection, \\nfacial recognition, real-time video analysis and much more \\n• Tools: Git, CI/CD pipelines, Power Vision (for HMI) \\n \\nKarteek has implemented a multiple of Professional, Personal and Academics projects, which \\nare: \\nFlood Prediction using Transformer Models: Karteek has been a critical part of the development \\nof an AI-based flood risk predictor using satellite imagery, transformer ML models, and geospatial \\ndata to help urban planners prepare mitigation strategies. This project earned 3rd place in the \\nGrainger Computing Innovation Prize at Illinois Tech and has won his team a cash prize of $5000. \\nThe project enabled him to work with GIS data for the first time and that experience was later on \\nused to implement one of his Academic projects for a course named Online Network and Social \\nMedia Analysis. \\nAI Stock Trading Agent is one his Machine learning projects for school where he Designed a \\nDouble Deep Q-Learning agent that used LSTM networks to identify trading patterns in TCS stock \\nfrom the Indian stock market. To build an agent that made profits from trading he created multiple \\ncustom reward-based environments that were put in to trial and error to find the most optimize \\nreward function that can trade and make profit. Although the project is a Reinforcement Learning \\nbased, he still implemented some constraints to make the agent guess less and limit the actions it \\ncan take to make a profitable trade. \\nEco-Car Challenge - Human-Machine Interface (HMI): Until his final semester in college Karteek \\nwas a part of the Eco Car EV challenge, a competition where selected teams from universtities \\nacross the country compete with each other to build an autonomous driving vehicle. Karteek’s role \\nin the team was to build interactive HMI screens using Power Vision, a tool specifically designed to \\ndevelop and implement functions on the screen which we were using, which was sponsored by \\nUICO. Along with that his duties also included Integration of car-to-screen communication via CAN'), Document(metadata={'producer': 'Microsoft® Word for Microsoft 365', 'creator': 'Microsoft® Word for Microsoft 365', 'creationdate': '2025-05-05T18:52:22-05:00', 'author': 'Karteek varma Pericharla', 'moddate': '2025-05-05T18:52:22-05:00', 'source': 'trainingdata.pdf', 'total_pages': 3, 'page': 2, 'page_label': '3'}, page_content='bus and custom DBC files. And designing Real-time control logic and state flows while aiming to \\nimprove vehicle-user interaction. \\nKar_Per the chat personal chatbot is his recent project that he built to showcase his interest in \\nnatural language processing. Kar_Per is a chatbot he named after him meaning Karteek Pericharla. \\nThe project is a part of creating his portfolio to showcase his skills on the internet. The chatbot has \\nbeen built on top a base LLM by Microsoft named phi-2, which is a decoder only type of LLM with \\n2.7 Billion parameters approximately. He took a RAG based approach to implement the bot along \\nwith Langchain and Pytorch in his toolstack. The bot is going to be in continuous development \\nalong with time. \\nThe website KarPer.dev is another project of his, which is a Personal website in which the chatbot \\nKarPer has been integrated into. He has built the website from scratch using React and Node js, \\nalong with CSS Python to run his Fast API calls. The entire setup has been planned to host on Azure \\nor Amazon Web services, creating a end-end project which consists of developing, build, \\nintegration and deployment of both his website along with his Chatbot model. \\nVarma’s other projects include NLP Data Mapping at Course5 Intelligence: Created NLP \\nalgorithms for cleaning and mapping web-scraped records, streamlining data retrieval while \\nmaintaining high accuracy. and Investor Abnormality Detection Tool: Built a desktop application \\nusing financial models to detect discrepancies in company financials using historical fraud \\npatterns  \\n \\nInterests & Personality Highlights \\nBeyond academics and work, Karteek has been a passionate Kabaddi player, representing and \\nleading his college team for four years. He is known for his leadership skills, event organization \\nexperience, and collaborative spirit. He is highly enthusiastic about emerging AI technologies, \\nespecially in generative models (both NLP and CV), big data applications, and creating impactful AI-\\ndriven systems. \\n \\nGeneral Information: \\nDespite this information if anyone asks a question unrelated to the content in this section, please \\nbe polite and let them know the “The information requested is out of scope, and unavailable. But \\nrather let them know that they can know more about my projects in detail”.')]\n"
     ]
    }
   ],
   "source": [
    "from langchain.document_loaders import PyPDFLoader\n",
    "\n",
    "# Load the PDF file\n",
    "pdf_loader = PyPDFLoader(\"trainingdata.pdf\")\n",
    "documents = pdf_loader.load()\n",
    "\n",
    "# Display the loaded documents\n",
    "print(documents)"
   ]
  },
  {
   "cell_type": "code",
   "execution_count": 15,
   "id": "3b6779b1",
   "metadata": {},
   "outputs": [
    {
     "name": "stdout",
     "output_type": "stream",
     "text": [
      "[Document(metadata={'producer': 'Microsoft® Word for Microsoft 365', 'creator': 'Microsoft® Word for Microsoft 365', 'creationdate': '2025-05-05T18:52:22-05:00', 'author': 'Karteek varma Pericharla', 'moddate': '2025-05-05T18:52:22-05:00', 'source': 'trainingdata.pdf', 'total_pages': 3, 'page': 0, 'page_label': '1'}, page_content=\"Biographical Background: \\nKarteek Varma Pericharla, who is in short called Karteek and sometimes Varma, is a dedicated and \\nambitious Artificial Intelligence student who pursued his master’s in computer science with a \\nspecialization in Artificial Intelligence at Illinois Institute of Technology (IIT), Chicago and this is \\nwhere he is currently at. He is expected to graduate in May 2025. This marks his second master's \\ndegree, building upon his prior MBA in Business Analytics, Artificial Intelligence, and Machine \\nLearning from Woxsen University, where he learned application of AI for business at Hyderabad. His \\nfascination with AI was sparked during his techno-managerial journey at Woxsen, prompting him to \\ndeepen his technical expertise through a second graduate program in the United States. Before his \\npostgraduate studies, he earned a bachelor’s degree in mechanical engineering from JNTUK\"), Document(metadata={'producer': 'Microsoft® Word for Microsoft 365', 'creator': 'Microsoft® Word for Microsoft 365', 'creationdate': '2025-05-05T18:52:22-05:00', 'author': 'Karteek varma Pericharla', 'moddate': '2025-05-05T18:52:22-05:00', 'source': 'trainingdata.pdf', 'total_pages': 3, 'page': 0, 'page_label': '1'}, page_content=\"deepen his technical expertise through a second graduate program in the United States. Before his \\npostgraduate studies, he earned a bachelor’s degree in mechanical engineering from JNTUK \\nKakinada. His transition towards computer science was when he was doing a robotics 101 course \\nduring his bachelor’s degree, where he realized that he could spread his wings more freely by \\ncommunicating his ideas via programming. Karteek to this day still loves to go back to his \\nMechanical engineering basics for the love of it. \\nProfessional Experience: \\nKarteek's professional journey as a Full stack engineer started at Synechron Technologies, \\nHyderabad, where over the span of more than two years, he rose from Technology Associate to \\nSenior Technology Associate. At Synechron, he played a key role in full-stack development of a \\nsecure risk management web application for a major US-based BFSI client using Angular, SQL, C#, \\nand CI/CD practices.\"), Document(metadata={'producer': 'Microsoft® Word for Microsoft 365', 'creator': 'Microsoft® Word for Microsoft 365', 'creationdate': '2025-05-05T18:52:22-05:00', 'author': 'Karteek varma Pericharla', 'moddate': '2025-05-05T18:52:22-05:00', 'source': 'trainingdata.pdf', 'total_pages': 3, 'page': 0, 'page_label': '1'}, page_content='secure risk management web application for a major US-based BFSI client using Angular, SQL, C#, \\nand CI/CD practices.  \\nSubsequently after Synechron, at Cigniti Technologies which is now acquired by Coforge; Karteek \\nworked as an AI Services Consultant within the Offerings Management Group and the Pre-Sales \\nteam. He led AI-centered initiatives in healthcare and industrial IoT domains. He provided tailored \\nsolutions, handled strategic account mining, built defense decks, and ensured alignment of \\ntechnical solutions with business objectives. His role involved client-centric innovation, trend \\nresearch, and delivery of AI technologies integrated into operational workflows. \\nAcademic Qualifications \\nHis latest degree is in Master of Science in Computer Science (Artificial Intelligence) at Illinois \\nInstitute of Technology, Chicago, Illinois (2023–2025) \\nPrior to that he has a  Master of Business Administration in AI/ML & Finance – Woxsen University, \\nHyderabad (Graduated: 2022)'), Document(metadata={'producer': 'Microsoft® Word for Microsoft 365', 'creator': 'Microsoft® Word for Microsoft 365', 'creationdate': '2025-05-05T18:52:22-05:00', 'author': 'Karteek varma Pericharla', 'moddate': '2025-05-05T18:52:22-05:00', 'source': 'trainingdata.pdf', 'total_pages': 3, 'page': 0, 'page_label': '1'}, page_content='Institute of Technology, Chicago, Illinois (2023–2025) \\nPrior to that he has a  Master of Business Administration in AI/ML & Finance – Woxsen University, \\nHyderabad (Graduated: 2022) \\nAn he completed his Bachelors of Technology in Mechanical Engineering at  JNTUK Kakinada \\n(Graduated: 2016) \\nKarteek’s Technical skill stack includes \\n• Programming using Python (NumPy, Pandas), SQL, JavaScript, TypeScript, C#, MS SQL, \\nreact.js, CSS, HTML'), Document(metadata={'producer': 'Microsoft® Word for Microsoft 365', 'creator': 'Microsoft® Word for Microsoft 365', 'creationdate': '2025-05-05T18:52:22-05:00', 'author': 'Karteek varma Pericharla', 'moddate': '2025-05-05T18:52:22-05:00', 'source': 'trainingdata.pdf', 'total_pages': 3, 'page': 1, 'page_label': '2'}, page_content='• His skills in AI/ML include understanding and the ability to build and utilize  Neural \\nnetworks, Clustering, Classification, Regression, Transformer models, Reinforcement \\nLearning (DDQL) algorithms \\n• He is keen at NLP and has worked on projects that include utilizing Sentiment analysis, Text \\nsummarization, GPT fine-tuning, BLEU/ROUGE/Perplexity metrics, Word2Vec, TextBlob, \\nNLTK \\n• To complement his abilities as a ML engineer he also learned to  Visualize data where \\nhe learned to used tools like Tableau, Power BI, Matplotlib, Seaborn, ggplot \\n• He has also learned some Data Engineering skills involving: AWS pipelines, graph-based \\nprocessing and feature engineering \\n• He also possess skills in Computer Vision and can perform tasks like Object detection, \\nfacial recognition, real-time video analysis and much more \\n• Tools: Git, CI/CD pipelines, Power Vision (for HMI) \\n \\nKarteek has implemented a multiple of Professional, Personal and Academics projects, which \\nare:'), Document(metadata={'producer': 'Microsoft® Word for Microsoft 365', 'creator': 'Microsoft® Word for Microsoft 365', 'creationdate': '2025-05-05T18:52:22-05:00', 'author': 'Karteek varma Pericharla', 'moddate': '2025-05-05T18:52:22-05:00', 'source': 'trainingdata.pdf', 'total_pages': 3, 'page': 1, 'page_label': '2'}, page_content='• Tools: Git, CI/CD pipelines, Power Vision (for HMI) \\n \\nKarteek has implemented a multiple of Professional, Personal and Academics projects, which \\nare: \\nFlood Prediction using Transformer Models: Karteek has been a critical part of the development \\nof an AI-based flood risk predictor using satellite imagery, transformer ML models, and geospatial \\ndata to help urban planners prepare mitigation strategies. This project earned 3rd place in the \\nGrainger Computing Innovation Prize at Illinois Tech and has won his team a cash prize of $5000. \\nThe project enabled him to work with GIS data for the first time and that experience was later on \\nused to implement one of his Academic projects for a course named Online Network and Social \\nMedia Analysis. \\nAI Stock Trading Agent is one his Machine learning projects for school where he Designed a \\nDouble Deep Q-Learning agent that used LSTM networks to identify trading patterns in TCS stock'), Document(metadata={'producer': 'Microsoft® Word for Microsoft 365', 'creator': 'Microsoft® Word for Microsoft 365', 'creationdate': '2025-05-05T18:52:22-05:00', 'author': 'Karteek varma Pericharla', 'moddate': '2025-05-05T18:52:22-05:00', 'source': 'trainingdata.pdf', 'total_pages': 3, 'page': 1, 'page_label': '2'}, page_content='AI Stock Trading Agent is one his Machine learning projects for school where he Designed a \\nDouble Deep Q-Learning agent that used LSTM networks to identify trading patterns in TCS stock \\nfrom the Indian stock market. To build an agent that made profits from trading he created multiple \\ncustom reward-based environments that were put in to trial and error to find the most optimize \\nreward function that can trade and make profit. Although the project is a Reinforcement Learning \\nbased, he still implemented some constraints to make the agent guess less and limit the actions it \\ncan take to make a profitable trade. \\nEco-Car Challenge - Human-Machine Interface (HMI): Until his final semester in college Karteek \\nwas a part of the Eco Car EV challenge, a competition where selected teams from universtities \\nacross the country compete with each other to build an autonomous driving vehicle. Karteek’s role'), Document(metadata={'producer': 'Microsoft® Word for Microsoft 365', 'creator': 'Microsoft® Word for Microsoft 365', 'creationdate': '2025-05-05T18:52:22-05:00', 'author': 'Karteek varma Pericharla', 'moddate': '2025-05-05T18:52:22-05:00', 'source': 'trainingdata.pdf', 'total_pages': 3, 'page': 1, 'page_label': '2'}, page_content='was a part of the Eco Car EV challenge, a competition where selected teams from universtities \\nacross the country compete with each other to build an autonomous driving vehicle. Karteek’s role \\nin the team was to build interactive HMI screens using Power Vision, a tool specifically designed to \\ndevelop and implement functions on the screen which we were using, which was sponsored by \\nUICO. Along with that his duties also included Integration of car-to-screen communication via CAN'), Document(metadata={'producer': 'Microsoft® Word for Microsoft 365', 'creator': 'Microsoft® Word for Microsoft 365', 'creationdate': '2025-05-05T18:52:22-05:00', 'author': 'Karteek varma Pericharla', 'moddate': '2025-05-05T18:52:22-05:00', 'source': 'trainingdata.pdf', 'total_pages': 3, 'page': 2, 'page_label': '3'}, page_content='bus and custom DBC files. And designing Real-time control logic and state flows while aiming to \\nimprove vehicle-user interaction. \\nKar_Per the chat personal chatbot is his recent project that he built to showcase his interest in \\nnatural language processing. Kar_Per is a chatbot he named after him meaning Karteek Pericharla. \\nThe project is a part of creating his portfolio to showcase his skills on the internet. The chatbot has \\nbeen built on top a base LLM by Microsoft named phi-2, which is a decoder only type of LLM with \\n2.7 Billion parameters approximately. He took a RAG based approach to implement the bot along \\nwith Langchain and Pytorch in his toolstack. The bot is going to be in continuous development \\nalong with time. \\nThe website KarPer.dev is another project of his, which is a Personal website in which the chatbot \\nKarPer has been integrated into. He has built the website from scratch using React and Node js,'), Document(metadata={'producer': 'Microsoft® Word for Microsoft 365', 'creator': 'Microsoft® Word for Microsoft 365', 'creationdate': '2025-05-05T18:52:22-05:00', 'author': 'Karteek varma Pericharla', 'moddate': '2025-05-05T18:52:22-05:00', 'source': 'trainingdata.pdf', 'total_pages': 3, 'page': 2, 'page_label': '3'}, page_content='The website KarPer.dev is another project of his, which is a Personal website in which the chatbot \\nKarPer has been integrated into. He has built the website from scratch using React and Node js, \\nalong with CSS Python to run his Fast API calls. The entire setup has been planned to host on Azure \\nor Amazon Web services, creating a end-end project which consists of developing, build, \\nintegration and deployment of both his website along with his Chatbot model. \\nVarma’s other projects include NLP Data Mapping at Course5 Intelligence: Created NLP \\nalgorithms for cleaning and mapping web-scraped records, streamlining data retrieval while \\nmaintaining high accuracy. and Investor Abnormality Detection Tool: Built a desktop application \\nusing financial models to detect discrepancies in company financials using historical fraud \\npatterns  \\n \\nInterests & Personality Highlights \\nBeyond academics and work, Karteek has been a passionate Kabaddi player, representing and'), Document(metadata={'producer': 'Microsoft® Word for Microsoft 365', 'creator': 'Microsoft® Word for Microsoft 365', 'creationdate': '2025-05-05T18:52:22-05:00', 'author': 'Karteek varma Pericharla', 'moddate': '2025-05-05T18:52:22-05:00', 'source': 'trainingdata.pdf', 'total_pages': 3, 'page': 2, 'page_label': '3'}, page_content='patterns  \\n \\nInterests & Personality Highlights \\nBeyond academics and work, Karteek has been a passionate Kabaddi player, representing and \\nleading his college team for four years. He is known for his leadership skills, event organization \\nexperience, and collaborative spirit. He is highly enthusiastic about emerging AI technologies, \\nespecially in generative models (both NLP and CV), big data applications, and creating impactful AI-\\ndriven systems. \\n \\nGeneral Information: \\nDespite this information if anyone asks a question unrelated to the content in this section, please \\nbe polite and let them know the “The information requested is out of scope, and unavailable. But \\nrather let them know that they can know more about my projects in detail”.')]\n"
     ]
    }
   ],
   "source": [
    "from langchain.text_splitter import RecursiveCharacterTextSplitter\n",
    "\n",
    "# Initialize the text splitter\n",
    "text_splitter = RecursiveCharacterTextSplitter(chunk_size=1000, chunk_overlap=200)\n",
    "\n",
    "# Split the documents into chunks\n",
    "chunks = text_splitter.split_documents(documents)\n",
    "\n",
    "# Display the chunks\n",
    "print(chunks)"
   ]
  },
  {
   "cell_type": "code",
   "execution_count": 16,
   "id": "28d59615",
   "metadata": {},
   "outputs": [],
   "source": [
    "from langchain.vectorstores import Chroma\n",
    "from langchain.embeddings import HuggingFaceEmbeddings\n",
    "\n",
    "embedding_model = HuggingFaceEmbeddings(model_name=\"sentence-transformers/all-MiniLM-L6-v2\")\n",
    "\n",
    "db = Chroma.from_documents(chunks, embedding=embedding_model, persist_directory=\"C:\\\\Users\\\\varma\\\\my-site\\\\backend\\\\chroma_store\", collection_name=\"karteek_context\")\n",
    "\n",
    "db.persist()"
   ]
  },
  {
   "cell_type": "markdown",
   "id": "d1a1004f",
   "metadata": {},
   "source": [
    "The cells below is only for test inference, and do not need once deployed unless to test"
   ]
  },
  {
   "cell_type": "code",
   "execution_count": 17,
   "id": "6d9dadaf",
   "metadata": {},
   "outputs": [
    {
     "name": "stdout",
     "output_type": "stream",
     "text": [
      "Context:  • His skills in AI/ML include understanding and the ability to build and utilize  Neural \n",
      "networks, Clustering, Classification, Regression, Transformer models, Reinforcement \n",
      "Learning (DDQL) algorithms \n",
      "• He is keen at NLP and has worked on projects that include utilizing Sentiment analysis, Text \n",
      "summarization, GPT fine-tuning, BLEU/ROUGE/Perplexity metrics, Word2Vec, TextBlob, \n",
      "NLTK \n",
      "• To complement his abilities as a ML engineer he also learned to  Visualize data where \n",
      "he learned to used tools like Tableau, Power BI, Matplotlib, Seaborn, ggplot \n",
      "• He has also learned some Data Engineering skills involving: AWS pipelines, graph-based \n",
      "processing and feature engineering \n",
      "• He also possess skills in Computer Vision and can perform tasks like Object detection, \n",
      "facial recognition, real-time video analysis and much more \n",
      "• Tools: Git, CI/CD pipelines, Power Vision (for HMI) \n",
      " \n",
      "Karteek has implemented a multiple of Professional, Personal and Academics projects, which \n",
      "are:\n",
      "\n",
      "• His skills in AI/ML include understanding and the ability to build and utilize  Neural \n",
      "networks, Clustering, Classification, Regression, Transformer models, Reinforcement \n",
      "Learning (DDQL) algorithms \n",
      "• He is keen at NLP and has worked on projects that include utilizing Sentiment analysis, Text \n",
      "summarization, GPT fine-tuning, BLEU/ROUGE/Perplexity metrics, Word2Vec, TextBlob, \n",
      "NLTK \n",
      "• To complement his abilities as a ML engineer he also learned to  Visualize data where \n",
      "he learned to used tools like Tableau, Power BI, Matplotlib, Seaborn, ggplot \n",
      "• He has also learned some Data Engineering skills involving: AWS pipelines, graph-based \n",
      "processing and feature engineering \n",
      "• He also possess skills in Computer Vision and can perform tasks like Object detection, \n",
      "facial recognition, real-time video analysis and much more \n",
      "• Tools: Git, CI/CD pipelines, Power Vision (for HMI) \n",
      " \n",
      "Karteek has implemented a multiple of Professional, Personal and Academics projects, which \n",
      "are:\n"
     ]
    }
   ],
   "source": [
    "query = \"Tell me about his projects\"\n",
    "retrieved_docs = db.similarity_search(query, k=2)\n",
    "\n",
    "#Get the context as plain text\n",
    "context = \"\\n\\n\".join([doc.page_content for doc in retrieved_docs])\n",
    "\n",
    "print(\"Context: \", context)\n"
   ]
  },
  {
   "cell_type": "code",
   "execution_count": 18,
   "id": "1ed7d138",
   "metadata": {},
   "outputs": [
    {
     "name": "stdout",
     "output_type": "stream",
     "text": [
      "['karteek_context']\n"
     ]
    }
   ],
   "source": [
    "collections = db._client.list_collections()\n",
    "print([c.name for c in collections])\n"
   ]
  },
  {
   "cell_type": "code",
   "execution_count": 19,
   "id": "1da36821",
   "metadata": {},
   "outputs": [],
   "source": [
    "# prompt = f\"\"\"Context:\n",
    "# {context}\n",
    "#\n",
    "# Answer the following question strictly using the context.\n",
    "#\n",
    "# Question: {query}\n",
    "# Answer:\"\"\""
   ]
  },
  {
   "cell_type": "code",
   "execution_count": 20,
   "id": "806a3b6d",
   "metadata": {},
   "outputs": [],
   "source": [
    "# input_ids = tokenizer(prompt, return_tensors=\"pt\").input_ids.to(model.device)\n",
    "\n",
    "# with torch.no_grad():\n",
    "#     output_ids = model.generate(\n",
    "#         input_ids,\n",
    "#         max_new_tokens=150,\n",
    "#         pad_token_id=tokenizer.eos_token_id,\n",
    "#         eos_token_id=tokenizer.eos_token_id,\n",
    "#     )\n",
    "\n",
    "# Slice to get only the generated part (excluding prompt)\n",
    "# generated_tokens = output_ids[0][input_ids.shape[-1]:]\n",
    "\n",
    "# Decode only generated tokens\n",
    "# response = tokenizer.decode(generated_tokens, skip_special_tokens=True).strip()\n",
    "# response = response.split(\"Exercise\")[0].strip()\n",
    "# response = response.split(\"Question\")[0].strip()\n",
    "\n",
    "# print(response)\n"
   ]
  }
 ],
 "metadata": {
  "kernelspec": {
   "display_name": "gpu-phi2",
   "language": "python",
   "name": "python3"
  },
  "language_info": {
   "codemirror_mode": {
    "name": "ipython",
    "version": 3
   },
   "file_extension": ".py",
   "mimetype": "text/x-python",
   "name": "python",
   "nbconvert_exporter": "python",
   "pygments_lexer": "ipython3",
   "version": "3.10.16"
  }
 },
 "nbformat": 4,
 "nbformat_minor": 5
}
