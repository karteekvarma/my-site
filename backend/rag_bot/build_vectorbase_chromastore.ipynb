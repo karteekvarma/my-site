{
 "cells": [
  {
   "cell_type": "markdown",
   "id": "ca78e8a1",
   "metadata": {},
   "source": [
    "Installed Langchain:\n",
    "\n",
    "pip install -qU \"langchain[openai]\"\n",
    "\n",
    "pip install -U langchain-community\n",
    "\n",
    "pip install pypdf\n",
    "\n",
    "pip install sentence-transformers\n",
    "\n",
    "pip install hf_xet"
   ]
  },
  {
   "cell_type": "code",
   "execution_count": 1,
   "id": "bc89176d",
   "metadata": {},
   "outputs": [],
   "source": [
    "import tqdm as notebook_tqdm"
   ]
  },
  {
   "cell_type": "code",
   "execution_count": 4,
   "id": "236d1de4",
   "metadata": {},
   "outputs": [
    {
     "name": "stderr",
     "output_type": "stream",
     "text": [
      "C:\\Users\\varma\\AppData\\Local\\Temp\\ipykernel_6328\\1690611847.py:17: LangChainDeprecationWarning: The class `HuggingFaceEmbeddings` was deprecated in LangChain 0.2.2 and will be removed in 1.0. An updated version of the class exists in the :class:`~langchain-huggingface package and should be used instead. To use it run `pip install -U :class:`~langchain-huggingface` and import as `from :class:`~langchain_huggingface import HuggingFaceEmbeddings``.\n",
      "  embedding_model = HuggingFaceEmbeddings(model_name=\"sentence-transformers/all-MiniLM-L6-v2\")\n",
      "c:\\Users\\varma\\anaconda3\\envs\\gpu-phi2\\lib\\site-packages\\tqdm\\auto.py:21: TqdmWarning: IProgress not found. Please update jupyter and ipywidgets. See https://ipywidgets.readthedocs.io/en/stable/user_install.html\n",
      "  from .autonotebook import tqdm as notebook_tqdm\n"
     ]
    },
    {
     "name": "stdout",
     "output_type": "stream",
     "text": [
      "✅ Vector DB rebuilt.\n"
     ]
    }
   ],
   "source": [
    "from langchain_chroma import Chroma\n",
    "from langchain_community.embeddings import HuggingFaceEmbeddings\n",
    "from langchain_text_splitters import CharacterTextSplitter\n",
    "from langchain_community.document_loaders import PyPDFLoader\n",
    "import os\n",
    "\n",
    "# Load document\n",
    "loader = PyPDFLoader(\"trainingdata.pdf\")  # Make sure this file has real content\n",
    "docs = loader.load()\n",
    "\n",
    "# Split into chunks\n",
    "splitter = CharacterTextSplitter(chunk_size=500, chunk_overlap=50)\n",
    "chunks = splitter.split_documents(docs)\n",
    "\n",
    "# Build vector store\n",
    "persist_directory = \"C:\\\\Users\\\\varma\\\\clone-mysite\\\\my-site\\\\backend\\\\rag_bot\\\\chroma_store\"\n",
    "embedding_model = HuggingFaceEmbeddings(model_name=\"sentence-transformers/all-MiniLM-L6-v2\")\n",
    "\n",
    "db = Chroma.from_documents(\n",
    "    documents=chunks,\n",
    "    embedding=embedding_model,\n",
    "    persist_directory=persist_directory,\n",
    "    collection_name=\"karteek_context\"\n",
    ")\n",
    "\n",
    "print(\"✅ Vector DB rebuilt.\")\n"
   ]
  },
  {
   "cell_type": "markdown",
   "id": "d1a1004f",
   "metadata": {},
   "source": [
    "The cells below is only for test inference, and do not need once deployed unless to test"
   ]
  },
  {
   "cell_type": "code",
   "execution_count": null,
   "id": "6d9dadaf",
   "metadata": {},
   "outputs": [],
   "source": [
    "query = \"Tell me about his projects\"\n",
    "retrieved_docs = db.similarity_search(query, k=2)\n",
    "\n",
    "#Get the context as plain text\n",
    "context = \"\\n\\n\".join([doc.page_content for doc in retrieved_docs])\n",
    "\n",
    "print(\"Context: \", context)\n"
   ]
  }
 ],
 "metadata": {
  "kernelspec": {
   "display_name": "gpu-phi2",
   "language": "python",
   "name": "python3"
  },
  "language_info": {
   "codemirror_mode": {
    "name": "ipython",
    "version": 3
   },
   "file_extension": ".py",
   "mimetype": "text/x-python",
   "name": "python",
   "nbconvert_exporter": "python",
   "pygments_lexer": "ipython3",
   "version": "3.10.16"
  }
 },
 "nbformat": 4,
 "nbformat_minor": 5
}
